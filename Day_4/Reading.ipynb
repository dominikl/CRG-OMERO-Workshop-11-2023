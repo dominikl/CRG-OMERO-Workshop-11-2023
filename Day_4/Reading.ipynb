{
 "cells": [
  {
   "cell_type": "markdown",
   "id": "39f55460",
   "metadata": {},
   "source": [
    "# Reading images"
   ]
  },
  {
   "cell_type": "markdown",
   "id": "ba4cc392",
   "metadata": {},
   "source": [
    "## Read local image\n",
    "\n",
    "We read a local Tiff image using ``scikit-image``."
   ]
  },
  {
   "cell_type": "code",
   "execution_count": 1,
   "id": "3b72760f",
   "metadata": {},
   "outputs": [],
   "source": [
    "import skimage.io as skio"
   ]
  },
  {
   "cell_type": "code",
   "execution_count": 6,
   "id": "add3286a",
   "metadata": {},
   "outputs": [],
   "source": [
    "image_local = skio.imread(\"includes/B4_C3.tif\", plugin=\"tifffile\")"
   ]
  },
  {
   "cell_type": "code",
   "execution_count": 8,
   "id": "78473c78",
   "metadata": {},
   "outputs": [
    {
     "name": "stdout",
     "output_type": "stream",
     "text": [
      "(257, 2, 210, 253)\n"
     ]
    }
   ],
   "source": [
    "print(image_local.shape)"
   ]
  },
  {
   "cell_type": "code",
   "execution_count": 24,
   "id": "ce09cfa4",
   "metadata": {},
   "outputs": [
    {
     "data": {
      "application/vnd.jupyter.widget-view+json": {
       "model_id": "4de73afcb6904ef5bb1a45d980626b83",
       "version_major": 2,
       "version_minor": 0
      },
      "text/plain": [
       "interactive(children=(IntSlider(value=1, continuous_update=False, description='Select Z', max=256), Output()),…"
      ]
     },
     "metadata": {},
     "output_type": "display_data"
    },
    {
     "data": {
      "text/plain": [
       "<function __main__.update(z=0)>"
      ]
     },
     "execution_count": 24,
     "metadata": {},
     "output_type": "execute_result"
    }
   ],
   "source": [
    "import matplotlib.pyplot as plt\n",
    "%matplotlib inline\n",
    "from ipywidgets import *\n",
    "\n",
    "def update(z=0):\n",
    "    c = 1\n",
    "    fig = plt.figure(figsize=(10, 10))\n",
    "    plt.imshow(image_local[z, c, :, :])\n",
    "    plt.tight_layout()\n",
    "    fig.canvas.flush_events()\n",
    "\n",
    "interact(update, z= widgets.IntSlider(value=1, min=0, max=image_local.shape[0]-1, step=1, description=\"Select Z\", continuous_update=False))\n"
   ]
  },
  {
   "cell_type": "markdown",
   "id": "c644afdb",
   "metadata": {},
   "source": [
    "## Read remote image\n",
    "\n",
    "Read the same image stored in IDR."
   ]
  },
  {
   "cell_type": "markdown",
   "id": "b6b9022d",
   "metadata": {},
   "source": [
    "### Install dependencies if required\n",
    "\n",
    "The cell below will install dependencies if you choose to run the notebook in [Google Colab](https://colab.research.google.com/notebooks/intro.ipynb#recent=true). Running the cell could take some time due to the installation of one the dependencies required by ``omero-py``. **Do not run the cell if you are not running the notebook on Google Colab**."
   ]
  },
  {
   "cell_type": "code",
   "execution_count": null,
   "id": "3a9a5ddc",
   "metadata": {},
   "outputs": [],
   "source": [
    "# Package required to interact with IDR or OMERO\n",
    "%pip install omero-py==5.13.1"
   ]
  },
  {
   "cell_type": "markdown",
   "id": "0e185242",
   "metadata": {},
   "source": [
    "### First connect to IDR\n",
    "\n",
    "This is the first step to any action when using the Python API."
   ]
  },
  {
   "cell_type": "code",
   "execution_count": 15,
   "id": "197eb8df",
   "metadata": {},
   "outputs": [
    {
     "name": "stdout",
     "output_type": "stream",
     "text": [
      "True\n"
     ]
    }
   ],
   "source": [
    "from omero.gateway import BlitzGateway\n",
    "HOST = 'ws://idr.openmicroscopy.org/omero-ws'\n",
    "conn = BlitzGateway('public', 'public',\n",
    "                    host=HOST, secure=True)\n",
    "print(conn.connect())\n",
    "conn.c.enableKeepAlive(60)"
   ]
  },
  {
   "cell_type": "markdown",
   "id": "74cd389c",
   "metadata": {},
   "source": [
    "### Select the image to view\n",
    "\n",
    "The image is retrieved using its ID."
   ]
  },
  {
   "cell_type": "code",
   "execution_count": 16,
   "id": "cdf33bdb",
   "metadata": {},
   "outputs": [],
   "source": [
    "image_id = 6001247"
   ]
  },
  {
   "cell_type": "markdown",
   "id": "c5b8f6ca",
   "metadata": {},
   "source": [
    "## Load an image\n",
    "\n",
    "We load information about the image but **not** the binary data. An image is a 5D-object (XYZCT)."
   ]
  },
  {
   "cell_type": "code",
   "execution_count": 17,
   "id": "fa4c003a",
   "metadata": {},
   "outputs": [
    {
     "name": "stdout",
     "output_type": "stream",
     "text": [
      "B4_C3.tif\n"
     ]
    }
   ],
   "source": [
    "image = conn.getObject(\"Image\", image_id)\n",
    "print(image.getName())"
   ]
  },
  {
   "cell_type": "code",
   "execution_count": 19,
   "id": "08b98008",
   "metadata": {},
   "outputs": [
    {
     "name": "stdout",
     "output_type": "stream",
     "text": [
      "SizeZ: 257, SizeC: 2, Size X: 253, Size Y: 210\n"
     ]
    }
   ],
   "source": [
    "print(\"SizeZ: %s, SizeC: %s, Size X: %s, Size Y: %s\" % (image.getSizeZ(), image.getSizeC(), image.getSizeX(), image.getSizeY()))"
   ]
  },
  {
   "cell_type": "markdown",
   "id": "838d2b68",
   "metadata": {},
   "source": [
    "## Load the binary data\n",
    "\n",
    "To access the binary data, we need to load the `pixels` object from the image and retrieve the plane(s).\n",
    "\n",
    "When using the API, you can selectively load only the planes you need for your analysis. This is an advantage when using analytical tools requiring planar data, e.g. CellProfiler."
   ]
  },
  {
   "cell_type": "code",
   "execution_count": 20,
   "id": "ae47a6f6",
   "metadata": {},
   "outputs": [],
   "source": [
    "import numpy\n",
    "\n",
    "def load_numpy_array(image):\n",
    "    pixels = image.getPrimaryPixels()\n",
    "    size_z = image.getSizeZ()\n",
    "    size_c = image.getSizeC()\n",
    "    size_t = image.getSizeT()\n",
    "    size_x = image.getSizeX()\n",
    "    size_y = image.getSizeY()\n",
    "    z, t, c = 0, 0, 0  # first plane of the image\n",
    "\n",
    "    zct_list = []\n",
    "    for t in range(size_t):\n",
    "        for c in range(size_c):  # all channels\n",
    "            for z in range(size_z):  # get the Z-stack\n",
    "                zct_list.append((z, c, t))\n",
    "\n",
    "    values = []\n",
    "    # Load all the planes as YX numpy array\n",
    "    planes = pixels.getPlanes(zct_list)\n",
    "    s = \"t:%s c:%s z:%s\" % (size_t, size_c, size_z)\n",
    "    print(\"Downloading image %s\" % image.getName())\n",
    "    all_planes = numpy.stack(list(planes))\n",
    "    shape = (size_t, size_c, size_z, size_y, size_x)\n",
    "    return numpy.reshape(all_planes, newshape=shape)"
   ]
  },
  {
   "cell_type": "code",
   "execution_count": 21,
   "id": "568362d0",
   "metadata": {},
   "outputs": [
    {
     "name": "stdout",
     "output_type": "stream",
     "text": [
      "Downloading image B4_C3.tif\n"
     ]
    }
   ],
   "source": [
    "data = load_numpy_array(image)"
   ]
  },
  {
   "cell_type": "code",
   "execution_count": 22,
   "id": "6a733943",
   "metadata": {},
   "outputs": [
    {
     "name": "stdout",
     "output_type": "stream",
     "text": [
      "(1, 2, 257, 210, 253)\n"
     ]
    }
   ],
   "source": [
    "print(data.shape)"
   ]
  },
  {
   "cell_type": "code",
   "execution_count": 27,
   "id": "4603868d",
   "metadata": {},
   "outputs": [
    {
     "data": {
      "application/vnd.jupyter.widget-view+json": {
       "model_id": "021d5d001b6540e49f8f11a75f956830",
       "version_major": 2,
       "version_minor": 0
      },
      "text/plain": [
       "interactive(children=(IntSlider(value=1, continuous_update=False, description='Select Z', max=256), Output()),…"
      ]
     },
     "metadata": {},
     "output_type": "display_data"
    },
    {
     "data": {
      "text/plain": [
       "<function __main__.update(z=0)>"
      ]
     },
     "execution_count": 27,
     "metadata": {},
     "output_type": "execute_result"
    }
   ],
   "source": [
    "import matplotlib.pyplot as plt\n",
    "%matplotlib inline\n",
    "from ipywidgets import *\n",
    "\n",
    "def update(z=0):\n",
    "    c = 1\n",
    "    t = 0\n",
    "    fig = plt.figure(figsize=(10, 10))\n",
    "    plt.imshow(data[t, c, z, :, :])\n",
    "    plt.tight_layout()\n",
    "    fig.canvas.flush_events()\n",
    "\n",
    "interact(update, z= widgets.IntSlider(value=1, min=0, max=data.shape[2]-1, step=1, description=\"Select Z\", continuous_update=False))\n"
   ]
  },
  {
   "cell_type": "markdown",
   "id": "16dd3d18",
   "metadata": {},
   "source": [
    "### License (BSD 2-Clause)¶\n",
    "\n",
    "Copyright (C) 2023 University of Dundee. All Rights Reserved.\n",
    "\n",
    "Redistribution and use in source and binary forms, with or without modification, are permitted provided that the following conditions are met:\n",
    "\n",
    "Redistributions of source code must retain the above copyright notice, this list of conditions and the following disclaimer. Redistributions in binary form must reproduce the above copyright notice, this list of conditions and the following disclaimer in the documentation and/or other materials provided with the distribution. THIS SOFTWARE IS PROVIDED BY THE COPYRIGHT HOLDERS AND CONTRIBUTORS \"AS IS\" AND ANY EXPRESS OR IMPLIED WARRANTIES, INCLUDING, BUT NOT LIMITED TO, THE IMPLIED WARRANTIES OF MERCHANTABILITY AND FITNESS FOR A PARTICULAR PURPOSE ARE DISCLAIMED. IN NO EVENT SHALL THE COPYRIGHT OWNER OR CONTRIBUTORS BE LIABLE FOR ANY DIRECT, INDIRECT, INCIDENTAL, SPECIAL, EXEMPLARY, OR CONSEQUENTIAL DAMAGES (INCLUDING, BUT NOT LIMITED TO, PROCUREMENT OF SUBSTITUTE GOODS OR SERVICES; LOSS OF USE, DATA, OR PROFITS; OR BUSINESS INTERRUPTION) HOWEVER CAUSED AND ON ANY THEORY OF LIABILITY, WHETHER IN CONTRACT, STRICT LIABILITY, OR TORT (INCLUDING NEGLIGENCE OR OTHERWISE) ARISING IN ANY WAY OUT OF THE USE OF THIS SOFTWARE, EVEN IF ADVISED OF THE POSSIBILITY OF SUCH DAMAGE."
   ]
  }
 ],
 "metadata": {
  "kernelspec": {
   "display_name": "imaging_course_cellpose_day_4_2023",
   "language": "python",
   "name": "imaging_course_cellpose_day_4_2023"
  },
  "language_info": {
   "codemirror_mode": {
    "name": "ipython",
    "version": 3
   },
   "file_extension": ".py",
   "mimetype": "text/x-python",
   "name": "python",
   "nbconvert_exporter": "python",
   "pygments_lexer": "ipython3",
   "version": "3.8.16"
  }
 },
 "nbformat": 4,
 "nbformat_minor": 5
}
