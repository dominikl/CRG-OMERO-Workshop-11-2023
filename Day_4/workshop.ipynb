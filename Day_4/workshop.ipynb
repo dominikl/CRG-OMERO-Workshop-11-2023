{
 "cells": [
  {
   "cell_type": "markdown",
   "id": "377ec3e2",
   "metadata": {},
   "source": [
    "## Image Data Resource (IDR) practical\n",
    "\n",
    "### Outline \n",
    "* Basics (this notebook)\n",
    "* [Validate a tool against IDR data](Cellpose.ipynb)\n",
    "* [Use Public resources to answer a biological question](PublicResources.ipynb)"
   ]
  },
  {
   "cell_type": "markdown",
   "id": "80263710",
   "metadata": {},
   "source": [
    "### Objectives\n",
    "\n",
    " * Create a virtual environment for analysis.\n",
    " * Demonstrate how to access data from IDR using the Python API.\n",
    " * Re-analyze data using a different tool than the ones considered by the authors."
   ]
  },
  {
   "cell_type": "markdown",
   "id": "2827a3d1",
   "metadata": {},
   "source": [
    "## Running the notebooks\n",
    "\n",
    "### Running on cloud resources\n",
    "* [![Colab](https://colab.research.google.com/assets/colab-badge.svg)](https://colab.research.google.com/github/ome/EMBL-EBI-imaging-course-05-2023/)\n",
    "\n",
    "\n",
    "### Running locally\n",
    "\n",
    "Finally, if you would like to install the necessary requirements locally,\n",
    "we suggest using mamba:\n",
    "\n",
    "* Install Anaconda https://www.anaconda.com/products/individual#Downloads\n",
    "* In the base environment, run ``conda install -n base conda-forge::mamba``\n",
    "\n",
    "To avoid conflict with used packages, we have prepared two environments:\n",
    "\n",
    "\n",
    "Then, create the environment:\n",
    "\n",
    "    $ git clone https://github.com/ome/EMBL-EBI-imaging-course-05-2023\n",
    "    $ cd EMBL-EBI-imaging-course-05-2023\n",
    "    $ mamba env create -n imaging_course_cellpose_day_4_2023 -f Day_4/environment_cellpose.yml\n",
    "\n",
    "and activate the newly created environment:\n",
    "\n",
    "    $ conda activate imaging_course_cellpose_day_4_2023\n",
    "\n",
    "The following steps are only required if you want to run the notebooks\n",
    "\n",
    "* If you have Anaconda installed:\n",
    "  * Start Jupyter from the Anaconda-navigator\n",
    "  * In the conda environment, run ``mamba install ipykernel``\n",
    "  * To register the environment, run ``python -m ipykernel install --user --name imaging_course_cellpose_day_4_2023``\n",
    "  * Select the notebook you wish to run and select the ``Kernel>Change kernel>Python [conda env:imaging_course_day_4_2023]`` or ``Kernel>Change kernel>imaging_course_cellpose_day_4_2023``\n",
    "* If Anaconda is not installed:\n",
    "  * In the environment, install ``jupyter`` e.g. ``pip install jupyter``\n",
    "  * Add the virtualenv as a jupyter kernel i.e. ``ipython kernel install --name \"imaging_course_cellpose_day_4_2023\" --user``\n",
    "  * Open jupyter notebook i.e. ``jupyter notebook`` and select the ``imaging_course_cellpose_day_4_2023`` kernel or ``[conda env:imaging_course_cellpose_day_4_2023]`` according to what is available.\n",
    "\n"
   ]
  },
  {
   "cell_type": "markdown",
   "id": "ae6b7512",
   "metadata": {},
   "source": [
    "###  "
   ]
  }
 ],
 "metadata": {
  "kernelspec": {
   "display_name": "Python 3 (ipykernel)",
   "language": "python",
   "name": "python3"
  },
  "language_info": {
   "codemirror_mode": {
    "name": "ipython",
    "version": 3
   },
   "file_extension": ".py",
   "mimetype": "text/x-python",
   "name": "python",
   "nbconvert_exporter": "python",
   "pygments_lexer": "ipython3",
   "version": "3.9.12"
  }
 },
 "nbformat": 4,
 "nbformat_minor": 5
}
