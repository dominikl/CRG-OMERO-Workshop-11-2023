{
 "cells": [
  {
   "cell_type": "markdown",
   "id": "462b90fe",
   "metadata": {},
   "source": [
    "## Image Data Resource (IDR) practical\n",
    "\n",
    "### Outline \n",
    "* Basics (this notebook)\n",
    "* [Validate a tool against IDR data](Cellpose.ipynb)\n",
    "* [Use Public resources to answer a biological question](PublicResources.ipynb)"
   ]
  },
  {
   "cell_type": "markdown",
   "id": "365fd2d2",
   "metadata": {},
   "source": [
    "### Objectives\n",
    "\n",
    " * Create a virtual environment for analysis.\n",
    " * Read local data\n",
    " * Demonstrate how to access data from IDR using the Python API.\n",
    " * Re-analyze data using a different tool than the ones considered by the authors."
   ]
  },
  {
   "cell_type": "markdown",
   "id": "a1b813ab",
   "metadata": {},
   "source": [
    "## Running the notebooks\n",
    "\n",
    "### Running on cloud resources\n",
    "* [![Colab](https://colab.research.google.com/assets/colab-badge.svg)](https://colab.research.google.com/github/ome/EMBL-EBI-imaging-course-05-2023/)\n",
    "\n",
    "\n",
    "### Running locally\n",
    "\n",
    "Finally, if you would like to install the necessary requirements locally,\n",
    "we suggest using mamba:\n",
    "\n",
    "* Install Anaconda https://www.anaconda.com/products/individual#Downloads\n",
    "* In the base environment, run ``conda install -n base conda-forge::mamba``\n",
    "\n",
    "To avoid conflict with used packages, we have prepared two environments:\n",
    "``Day_4/environment_cellpose.yml`` and ``Day_4/environment.yml``\n",
    "\n",
    "Then, create the environment:\n",
    "\n",
    "    $ git clone https://github.com/ome/EMBL-EBI-imaging-course-05-2023\n",
    "    $ cd EMBL-EBI-imaging-course-05-2023\n",
    "    $ mamba env create -n imaging_course_cellpose_day_4_2023 -f Day_4/environment_cellpose.yml\n",
    "\n",
    "and activate the newly created environment:\n",
    "\n",
    "    $ conda activate imaging_course_cellpose_day_4_2023\n",
    "\n",
    "The following steps are only required if you want to run the notebooks\n",
    "\n",
    "* If you have Anaconda installed:\n",
    "  * Start Jupyter from the Anaconda-navigator\n",
    "  * In the conda environment, run ``mamba install ipykernel``\n",
    "  * To register the environment, run ``python -m ipykernel install --user --name imaging_course_cellpose_day_4_2023``\n",
    "  * Select the notebook you wish to run and select the ``Kernel>Change kernel>Python [conda env:imaging_course_day_4_2023]`` or ``Kernel>Change kernel>imaging_course_cellpose_day_4_2023``\n",
    "* If Anaconda is not installed:\n",
    "  * In the environment, install ``jupyter`` e.g. ``pip install jupyter``\n",
    "  * Add the virtualenv as a jupyter kernel i.e. ``ipython kernel install --name \"imaging_course_cellpose_day_4_2023\" --user``\n",
    "  * Open jupyter notebook i.e. ``jupyter notebook`` and select the ``imaging_course_cellpose_day_4_2023`` kernel or ``[conda env:imaging_course_cellpose_day_4_2023]`` according to what is available.\n",
    "\n"
   ]
  },
  {
   "cell_type": "markdown",
   "id": "885c1a69",
   "metadata": {},
   "source": [
    "## Tutorial Structure\n",
    "\n",
    "\n",
    "Each section is a Jupyter notebook. There's a mixture of text, code, and exercises.\n",
    "\n",
    "If you haven't used Jupyter Notebook before, the quick intro is\n",
    "\n",
    "* There are two modes: ``command`` and ``edit``\n",
    "* From command ``mode``, press ``Enter`` to edit a cell (like this markdown cell)\n",
    "* From ``edit`` mode, press ``Esc`` to change to command mode\n",
    "* Press ``shift+enter`` to execute a cell and move to the next cell.\n",
    "* The toolbar has commands for executing, converting, and creating cells.\n",
    "* Use the `%%time` magic at the beginning of a cell to check how long the computation takes or use the magic ``%time`` in front of a command if only running one command."
   ]
  },
  {
   "cell_type": "code",
   "execution_count": null,
   "id": "867dd455",
   "metadata": {},
   "outputs": [],
   "source": []
  }
 ],
 "metadata": {
  "kernelspec": {
   "display_name": "Python 3 (ipykernel)",
   "language": "python",
   "name": "python3"
  },
  "language_info": {
   "codemirror_mode": {
    "name": "ipython",
    "version": 3
   },
   "file_extension": ".py",
   "mimetype": "text/x-python",
   "name": "python",
   "nbconvert_exporter": "python",
   "pygments_lexer": "ipython3",
   "version": "3.9.12"
  }
 },
 "nbformat": 4,
 "nbformat_minor": 5
}
