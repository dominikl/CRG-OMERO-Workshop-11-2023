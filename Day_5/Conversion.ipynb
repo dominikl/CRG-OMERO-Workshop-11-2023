{
 "cells": [
  {
   "cell_type": "markdown",
   "id": "401dc0df",
   "metadata": {},
   "source": [
    "# What is OME-NGFF & Zarr\n",
    "\n",
    "[OME-NGFF is a next generation file format for expanding bioimaging data-access strategies](\n",
    "https://www.nature.com/articles/s41592-021-01326-w).\n",
    "\n",
    "OME-NGFF \n",
    "* contains metadata stored in a human-readable form (in hidden JSON files `.z*`) and binary data.\n",
    "* is based on the HDF5 conceptual model.\n",
    "\n",
    "OME-NGFF: Towards a community standard image file format for sharing big image data in the cloud"
   ]
  },
  {
   "cell_type": "markdown",
   "id": "6105a485",
   "metadata": {},
   "source": [
    "<img src=\"images/ome_ngff.png\"/>"
   ]
  },
  {
   "cell_type": "markdown",
   "id": "b8898543",
   "metadata": {},
   "source": [
    "<img src=\"images/zarr.png\"/>"
   ]
  },
  {
   "cell_type": "markdown",
   "id": "ed74fbac",
   "metadata": {},
   "source": [
    "<img src=\"images/zarr_multi_resolution.png\"/>"
   ]
  },
  {
   "cell_type": "markdown",
   "id": "fe4e6ff5",
   "metadata": {},
   "source": [
    "## Storage "
   ]
  },
  {
   "cell_type": "markdown",
   "id": "c57b9d61",
   "metadata": {},
   "source": [
    "<img src=\"images/s3-2.png\"/>"
   ]
  },
  {
   "cell_type": "markdown",
   "id": "9938aa34",
   "metadata": {},
   "source": [
    "## Points to keep in mind\n",
    "\n",
    "* The simplicity and transparency of Zarr files make them ideal for exploration and for working on the cloud.\n",
    "* A downside of it can be that working with many small files can introduce bottlenecks for uploading (and even deleting).\n",
    "* Working with Object store is very different from a file system, fewer (GUI) tools exist, and each Object store implementation may be slightly different."
   ]
  },
  {
   "cell_type": "markdown",
   "id": "ecb11a36",
   "metadata": {},
   "source": [
    "## Convert data\n",
    "* [Conversion tools](https://ngff.openmicroscopy.org/tools/index.html#utilities)\n",
    "\n",
    "## View data\n",
    "* [View data](https://ngff.openmicroscopy.org/tools/index.html#visualization-tools)\n",
    "\n",
    "\n",
    "## Public data\n",
    "\n",
    "* [Data resources](https://ngff.openmicroscopy.org/data/index.html)\n",
    "\n",
    "## Useful links\n",
    "* [Zarr community](https://zarr.dev/)\n",
    "* [NGFF specification](https://ngff.openmicroscopy.org/specifications/index.html)\n"
   ]
  },
  {
   "cell_type": "markdown",
   "id": "46be9e85",
   "metadata": {},
   "source": [
    "## Converting your data to OME-NGFF\n",
    "\n",
    "The two basic commands are ``bioformats2raw`` and ``raw2ometiff``. Together they provide a pipeline to scalably convert large images into OME-TIFF. The primary caveat is that they require **twice** the storage for the conversion."
   ]
  },
  {
   "cell_type": "markdown",
   "id": "30ea4b47",
   "metadata": {},
   "source": [
    "<img src=\"images/blog-2019-12-converting-whole-slide-images.jpg\" style=\"height:200px\" />"
   ]
  },
  {
   "cell_type": "markdown",
   "id": "73470a9d",
   "metadata": {},
   "source": [
    "We assume that ``environment_conversion.yml`` has been created and activated in a terminal. The commands below must be run in the terminal in which the environment has been activated."
   ]
  },
  {
   "cell_type": "markdown",
   "id": "a43de72e",
   "metadata": {},
   "source": [
    "- Make sure the directory does not exist:\n",
    "```\n",
    "import os, shutil\n",
    "if os.path.exists(\"/tmp/conversion_out/B4_C3.zarr\"):\n",
    "    shutil.rmtree(\"/tmp/conversion_out/B4_C3.zarr\")\n",
    "```"
   ]
  },
  {
   "cell_type": "markdown",
   "id": "1925623a",
   "metadata": {},
   "source": [
    "- Convert the ``B4_C3.tif`` image into ``OME-NGFF``.\n",
    "```\n",
    "bioformats2raw --debug=OFF --progress Day_4/includes/B4_C3.tif /tmp/conversion_out/B4_C3.ome.zarr\n",
    "```"
   ]
  },
  {
   "cell_type": "markdown",
   "id": "f2923d0d",
   "metadata": {},
   "source": [
    "- The levels of this hierarchy can be interpreted as:\n",
    "```\n",
    "B4_C3.tif\n",
    "└── series \n",
    "    └──resolution-level\n",
    "      └── z-chunk-index\n",
    "        └── y-chunk-index\n",
    "            └── x-chunk-index\n",
    "```\n",
    "\n",
    "Note that Bio-Formats always introduces a multiple series level. This is only present when converting using ``bioformats2raw``"
   ]
  },
  {
   "cell_type": "markdown",
   "id": "88919373",
   "metadata": {},
   "source": [
    "- View the image using for example the [napari Desktop client](https://napari.org/stable/)\n",
    "\n",
    "```\n",
    "napari /tmp/conversion_out/B4_C3.ome.zarr/0\n",
    "```\n",
    "\n",
    "When napari dialog asking you to choose a reader pops up, select the ``napari-ome-zarr`` reader."
   ]
  },
  {
   "cell_type": "markdown",
   "id": "88c977e4",
   "metadata": {},
   "source": [
    "### License (BSD 2-Clause)\n",
    "Copyright (C) 2023 University of Dundee. All Rights Reserved.\n",
    "\n",
    "Redistribution and use in source and binary forms, with or without modification, are permitted provided that the following conditions are met:\n",
    "\n",
    "Redistributions of source code must retain the above copyright notice, this list of conditions and the following disclaimer.\n",
    "Redistributions in binary form must reproduce the above copyright notice, this list of conditions and the following disclaimer in the documentation and/or other materials provided with the distribution.\n",
    "THIS SOFTWARE IS PROVIDED BY THE COPYRIGHT HOLDERS AND CONTRIBUTORS \"AS IS\" AND ANY EXPRESS OR IMPLIED WARRANTIES, INCLUDING, BUT NOT LIMITED TO, THE IMPLIED WARRANTIES OF MERCHANTABILITY AND FITNESS FOR A PARTICULAR PURPOSE ARE DISCLAIMED. IN NO EVENT SHALL THE COPYRIGHT OWNER OR CONTRIBUTORS BE LIABLE FOR ANY DIRECT, INDIRECT, INCIDENTAL, SPECIAL, EXEMPLARY, OR CONSEQUENTIAL DAMAGES (INCLUDING, BUT NOT LIMITED TO, PROCUREMENT OF SUBSTITUTE GOODS OR SERVICES; LOSS OF USE, DATA, OR PROFITS; OR BUSINESS INTERRUPTION) HOWEVER CAUSED AND ON ANY THEORY OF LIABILITY, WHETHER IN CONTRACT, STRICT LIABILITY, OR TORT (INCLUDING NEGLIGENCE OR OTHERWISE) ARISING IN ANY WAY OUT OF THE USE OF THIS SOFTWARE, EVEN IF ADVISED OF THE POSSIBILITY OF SUCH DAMAGE."
   ]
  }
 ],
 "metadata": {
  "kernelspec": {
   "display_name": "imaging_course_conversion_day_5_2023",
   "language": "python",
   "name": "imaging_course_conversion_day_5_2023"
  },
  "language_info": {
   "codemirror_mode": {
    "name": "ipython",
    "version": 3
   },
   "file_extension": ".py",
   "mimetype": "text/x-python",
   "name": "python",
   "nbconvert_exporter": "python",
   "pygments_lexer": "ipython3",
   "version": "3.9.16"
  }
 },
 "nbformat": 4,
 "nbformat_minor": 5
}
