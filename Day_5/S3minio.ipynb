{
 "cells": [
  {
   "attachments": {},
   "cell_type": "markdown",
   "id": "f7cbe714",
   "metadata": {},
   "source": [
    "# S3 download and upload using Minio client\n",
    "\n",
    "Note that this section will **not** work in Google Colab.\n",
    "\n",
    "There are a number of different types of cloud storage and there are a number of tools that you can use to access your cloud storage, but here we are going to focus on a single one: **mc**.\n",
    "\n",
    "mc is provided by the minio project and is described as \"a modern alternative to UNIX commands like ls, cat, cp, mirror, diff, find etc.\" The quickstart guide can be found under https://docs.minio.io/docs/minio-client-quickstart-guide.html. For our purposes we will focus on how to use it to upload and manage data in S3.\n",
    "\n",
    "Steps:\n",
    "\n",
    "* Use mc to download an OME-NGFF from public S3 bucket to your local machine.\n",
    "* Use napari to inspect your downloaded OME-NGFF on your local machine.\n",
    "* Create a new bucket on minio play and upload the OME-NGFF from your local machine to it.\n",
    "* Use napari to open the OME-NGFF from S3 bucket on minio play."
   ]
  },
  {
   "cell_type": "code",
   "execution_count": null,
   "id": "e9c0e0d8",
   "metadata": {},
   "outputs": [],
   "source": [
    "! mc -v\n",
    "# update the mc installed in the env to the latest release\n",
    "! mc update"
   ]
  },
  {
   "cell_type": "code",
   "execution_count": null,
   "id": "0ca2c6ef",
   "metadata": {},
   "outputs": [],
   "source": [
    "# create an alias for an S3 compatible service\n",
    "! mc config host add public https://uk1s3.embassy.ebi.ac.uk \"\" \"\""
   ]
  },
  {
   "cell_type": "code",
   "execution_count": null,
   "id": "efaeb485",
   "metadata": {},
   "outputs": [],
   "source": [
    "# inspect the content of this public S3 bucket\n",
    "! mc ls public/idr"
   ]
  },
  {
   "cell_type": "code",
   "execution_count": null,
   "id": "3ad5740a",
   "metadata": {},
   "outputs": [],
   "source": [
    "# download the ome.zarr locally\n",
    "! mc cp -r public/idr/zarr/v0.4/idr0062A/6001240.zarr ."
   ]
  },
  {
   "cell_type": "code",
   "execution_count": null,
   "id": "d10b149b",
   "metadata": {},
   "outputs": [],
   "source": [
    "# inspect the downloaded image using napari\n",
    "! napari 6001240.zarr"
   ]
  },
  {
   "cell_type": "markdown",
   "id": "77cbb991",
   "metadata": {},
   "source": [
    "There is a \"play\" environment on minio.\n",
    "You can log in to the webpage and explore what the many other users have uploaded at https://play.minio.io:9000/minio/"
   ]
  },
  {
   "cell_type": "code",
   "execution_count": 7,
   "id": "ec9f2f95",
   "metadata": {},
   "outputs": [],
   "source": [
    "# Create your own bucket\n",
    "! mc config host list play\n",
    "! mc mb --ignore-existing play/test-for-ws"
   ]
  },
  {
   "cell_type": "code",
   "execution_count": null,
   "id": "522c2108",
   "metadata": {},
   "outputs": [],
   "source": [
    "# Set the bucket to public\n",
    "! mc anonymous set public play/test-for-ws"
   ]
  },
  {
   "cell_type": "code",
   "execution_count": null,
   "id": "5351db52",
   "metadata": {},
   "outputs": [],
   "source": [
    "# Upload your ome.zarr to your newly created bucket\n",
    "! mc cp -r ./6001240.zarr/ play/test-for-ws/6001240.zarr"
   ]
  },
  {
   "cell_type": "code",
   "execution_count": null,
   "id": "6fe03244",
   "metadata": {},
   "outputs": [],
   "source": [
    "# Open the uploaded image from S3 using napari\n",
    "! napari https://play.min.io/test-for-ws/6001240.zarr/"
   ]
  },
  {
   "cell_type": "markdown",
   "id": "a8b5bca6",
   "metadata": {},
   "source": [
    "### License (BSD 2-Clause)\n",
    "Copyright (C) 2023 University of Dundee. All Rights Reserved.\n",
    "\n",
    "Redistribution and use in source and binary forms, with or without modification, are permitted provided that the following conditions are met:\n",
    "\n",
    "Redistributions of source code must retain the above copyright notice, this list of conditions and the following disclaimer.\n",
    "Redistributions in binary form must reproduce the above copyright notice, this list of conditions and the following disclaimer in the documentation and/or other materials provided with the distribution.\n",
    "THIS SOFTWARE IS PROVIDED BY THE COPYRIGHT HOLDERS AND CONTRIBUTORS \"AS IS\" AND ANY EXPRESS OR IMPLIED WARRANTIES, INCLUDING, BUT NOT LIMITED TO, THE IMPLIED WARRANTIES OF MERCHANTABILITY AND FITNESS FOR A PARTICULAR PURPOSE ARE DISCLAIMED. IN NO EVENT SHALL THE COPYRIGHT OWNER OR CONTRIBUTORS BE LIABLE FOR ANY DIRECT, INDIRECT, INCIDENTAL, SPECIAL, EXEMPLARY, OR CONSEQUENTIAL DAMAGES (INCLUDING, BUT NOT LIMITED TO, PROCUREMENT OF SUBSTITUTE GOODS OR SERVICES; LOSS OF USE, DATA, OR PROFITS; OR BUSINESS INTERRUPTION) HOWEVER CAUSED AND ON ANY THEORY OF LIABILITY, WHETHER IN CONTRACT, STRICT LIABILITY, OR TORT (INCLUDING NEGLIGENCE OR OTHERWISE) ARISING IN ANY WAY OUT OF THE USE OF THIS SOFTWARE, EVEN IF ADVISED OF THE POSSIBILITY OF SUCH DAMAGE."
   ]
  }
 ],
 "metadata": {
  "kernelspec": {
   "display_name": "imaging_course_day_4_2023",
   "language": "python",
   "name": "imaging_course_day_4_2023"
  },
  "language_info": {
   "codemirror_mode": {
    "name": "ipython",
    "version": 3
   },
   "file_extension": ".py",
   "mimetype": "text/x-python",
   "name": "python",
   "nbconvert_exporter": "python",
   "pygments_lexer": "ipython3",
   "version": "3.9.16"
  }
 },
 "nbformat": 4,
 "nbformat_minor": 5
}
