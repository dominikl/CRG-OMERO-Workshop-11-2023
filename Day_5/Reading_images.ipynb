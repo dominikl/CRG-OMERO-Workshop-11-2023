{
 "cells": [
  {
   "cell_type": "markdown",
   "id": "50a93161",
   "metadata": {},
   "source": [
    "# Reading OME-NGFF\n",
    "\n",
    "[![Open in Colab](https://colab.research.google.com/assets/colab-badge.svg)](https://colab.research.google.com/github/ome/EMBL-EBI-imaging-course-05-2023/blob/main/Day_5/Reading_images.ipynb)\n"
   ]
  },
  {
   "cell_type": "markdown",
   "id": "68d06480",
   "metadata": {},
   "source": [
    "## Learning Objectives\n",
    "\n",
    "* Learn how to access local OME-NGFF file in Python\n",
    "* Learn how to access remote OME-NGFF file in Python"
   ]
  },
  {
   "cell_type": "markdown",
   "id": "f3643975",
   "metadata": {},
   "source": [
    "There are several ways to access data. For the purpose of the topics covered in this workshop, we will access files over ``https`` and use [dask](https://dask.org/)\n",
    "\n",
    "Some sofware packages required to have all the 2D planes in memory in order to work other can work on planar data. We will now show two mechanisms to access the data depending on the needs using ``dask.array.from_zarr``.\n",
    "\n",
    "Main point to keep in mind is that\n",
    "binary data are not loaded until it is used, i.e. it is **lazily loaded**.\n",
    "\n",
    "\n",
    "## Launch\n",
    "\n",
    "This notebook uses the ``environment.yml`` file.\n",
    "\n",
    "See [Setup](./workshop.ipynb)."
   ]
  },
  {
   "cell_type": "markdown",
   "id": "61cfa1fc",
   "metadata": {},
   "source": [
    "## How to access local Zarr file\n",
    "\n",
    "We first look at an existing ``ome.zarr`` file i.e. ``mri.ome.zarr``"
   ]
  },
  {
   "cell_type": "code",
   "execution_count": 6,
   "id": "4264bc5f",
   "metadata": {},
   "outputs": [],
   "source": [
    "import dask\n",
    "import dask.array as da\n",
    "from dask.diagnostics import ProgressBar\n",
    "import numpy\n",
    "def load_binary_from_local_with_data(path):\n",
    "    with ProgressBar():\n",
    "        return numpy.asarray(da.from_zarr(path))"
   ]
  },
  {
   "cell_type": "code",
   "execution_count": 7,
   "id": "2824529d",
   "metadata": {},
   "outputs": [
    {
     "name": "stdout",
     "output_type": "stream",
     "text": [
      "[########################################] | 100% Completed | 105.85 ms\n",
      "(27, 226, 186)\n",
      "CPU times: user 29.9 ms, sys: 15.8 ms, total: 45.7 ms\n",
      "Wall time: 118 ms\n"
     ]
    }
   ],
   "source": [
    "%%time\n",
    "image_location = 'images/mri.ome.zarr/s0'\n",
    "data = load_binary_from_local_with_data(image_location)\n",
    "print(data.shape)"
   ]
  },
  {
   "cell_type": "markdown",
   "id": "643d5003",
   "metadata": {},
   "source": [
    "**Exercise**: if you have generated a file locally as part of the [conversion workflow](Conversion.ipynb), set the ``image_location`` parameter to, for example, ``/tmp/conversion_out/B4_C3.zarr/0/0``."
   ]
  },
  {
   "cell_type": "code",
   "execution_count": 23,
   "id": "b1532c14",
   "metadata": {},
   "outputs": [
    {
     "data": {
      "application/vnd.jupyter.widget-view+json": {
       "model_id": "1cd58f7cbfa44be5848142a6dfbd2318",
       "version_major": 2,
       "version_minor": 0
      },
      "text/plain": [
       "interactive(children=(IntSlider(value=0, continuous_update=False, description='Select slice', max=256), Output…"
      ]
     },
     "metadata": {},
     "output_type": "display_data"
    },
    {
     "data": {
      "text/plain": [
       "<function __main__.update(z=0)>"
      ]
     },
     "execution_count": 23,
     "metadata": {},
     "output_type": "execute_result"
    }
   ],
   "source": [
    "import matplotlib.pyplot as plt\n",
    "%matplotlib inline\n",
    "from ipywidgets import *\n",
    "\n",
    "n = 2\n",
    "if len(data.shape) == 3:\n",
    "    n = 0\n",
    "    \n",
    "def update(z=0):\n",
    "    fig = plt.figure(figsize=(10, 10))\n",
    "    plt.subplot(121)\n",
    "    c = 1\n",
    "    t = 0\n",
    "    if len(data.shape) == 3: \n",
    "        plt.imshow(data[z, :, :])\n",
    "    else:\n",
    "        plt.imshow(data[t, c, z, :, :])\n",
    "    fig.canvas.flush_events()\n",
    "\n",
    "\n",
    "interact(update, z= widgets.IntSlider(value=0, min=0, max=data.shape[n]-1, step=1, description=\"Select slice\", continuous_update=False))"
   ]
  },
  {
   "cell_type": "markdown",
   "id": "2c1aec38",
   "metadata": {},
   "source": [
    "## How to access Zarr file on S3\n",
    "\n",
    "We need to specify the ``endpoint`` and the path to the image."
   ]
  },
  {
   "cell_type": "markdown",
   "id": "90ee1bb0",
   "metadata": {},
   "source": [
    "### Install dependencies if required\n",
    "\n",
    "The cell below will install dependencies if you choose to run the notebook in [Google Colab](https://colab.research.google.com/notebooks/intro.ipynb#recent=true). **Do not run the cell if you are not running the notebook on Google Colab**.\n",
    "\n",
    "\n",
    "If using Google Colab, **do not** use the ``Runtime>Run all`` entry."
   ]
  },
  {
   "cell_type": "code",
   "execution_count": null,
   "id": "36938166",
   "metadata": {},
   "outputs": [],
   "source": [
    "%pip install aiohttp==3.8.4 zarr==2.14.2"
   ]
  },
  {
   "cell_type": "markdown",
   "id": "3161658b",
   "metadata": {},
   "source": [
    "## Read the data\n",
    "We use the same image as in Day 4. The Tiff image has been converted into OME-Zarr and is available on S3."
   ]
  },
  {
   "cell_type": "code",
   "execution_count": null,
   "id": "06bb400c",
   "metadata": {},
   "outputs": [],
   "source": [
    "image_id = 6001247"
   ]
  },
  {
   "cell_type": "markdown",
   "id": "09ef18e3",
   "metadata": {},
   "source": [
    "### Option 1\n",
    "Load the binary. In that case, we load the 5D-image. This might be required depending on the software used to analyse the data. This approach should only be used if the 5D-image is required."
   ]
  },
  {
   "cell_type": "code",
   "execution_count": 16,
   "id": "57de8fed",
   "metadata": {},
   "outputs": [],
   "source": [
    "import dask\n",
    "import dask.array as da\n",
    "from dask.diagnostics import ProgressBar\n",
    "import numpy\n",
    "\n",
    "def load_binary_from_s3_with_data(id, resolution='0'):\n",
    "    endpoint_url = 'https://uk1s3.embassy.ebi.ac.uk/'\n",
    "    root = 'idr/zarr/v0.1/%s.zarr/%s/' % (id, resolution)\n",
    "    with ProgressBar():\n",
    "        return numpy.asarray(da.from_zarr(endpoint_url + root))"
   ]
  },
  {
   "cell_type": "code",
   "execution_count": 17,
   "id": "e00995d3",
   "metadata": {},
   "outputs": [
    {
     "name": "stdout",
     "output_type": "stream",
     "text": [
      "[########################################] | 100% Completed | 10.79 s\n",
      "(1, 2, 257, 210, 253)\n",
      "CPU times: user 2.89 s, sys: 669 ms, total: 3.56 s\n",
      "Wall time: 11.2 s\n"
     ]
    }
   ],
   "source": [
    "%%time\n",
    "data = load_binary_from_s3_with_data(image_id)\n",
    "print(data.shape)"
   ]
  },
  {
   "cell_type": "code",
   "execution_count": 8,
   "id": "40842789",
   "metadata": {
    "scrolled": false
   },
   "outputs": [
    {
     "data": {
      "application/vnd.jupyter.widget-view+json": {
       "model_id": "be9ea1ef2fc6438f8099e0ad3fae251b",
       "version_major": 2,
       "version_minor": 0
      },
      "text/plain": [
       "interactive(children=(IntSlider(value=0, continuous_update=False, description='Select Z', max=256), Output()),…"
      ]
     },
     "metadata": {},
     "output_type": "display_data"
    },
    {
     "data": {
      "text/plain": [
       "<function __main__.update(z=0)>"
      ]
     },
     "execution_count": 8,
     "metadata": {},
     "output_type": "execute_result"
    }
   ],
   "source": [
    "import matplotlib.pyplot as plt\n",
    "%matplotlib inline\n",
    "from ipywidgets import *\n",
    "\n",
    "def update(z=0):\n",
    "    fig = plt.figure(figsize=(10, 10))\n",
    "    plt.subplot(121)\n",
    "    c = 1\n",
    "    t = 0\n",
    "    plt.imshow(data[t, c, z, :, :])\n",
    "    fig.canvas.flush_events()\n",
    "\n",
    "\n",
    "interact(update, z= widgets.IntSlider(value=0, min=0, max=data.shape[2]-1, step=1, description=\"Select Z\", continuous_update=False))"
   ]
  },
  {
   "cell_type": "markdown",
   "id": "b308cfe8",
   "metadata": {},
   "source": [
    "### Option 2\n",
    "\n",
    "The method below will return a dask array **without** any binary data i.e. **lazy loading**. The dimension order of the array returned is ``(TCZYX)``. **Data will be loaded when requested later.**"
   ]
  },
  {
   "cell_type": "code",
   "execution_count": 13,
   "id": "aa29cb29",
   "metadata": {},
   "outputs": [],
   "source": [
    "def load_binary_from_s3(id, resolution='0'):\n",
    "    endpoint_url = 'https://uk1s3.embassy.ebi.ac.uk/'\n",
    "    root = 'idr/zarr/v0.1/%s.zarr/%s/' % (id, resolution)\n",
    "    return da.from_zarr(endpoint_url + root)"
   ]
  },
  {
   "cell_type": "code",
   "execution_count": 14,
   "id": "25848cf5",
   "metadata": {},
   "outputs": [
    {
     "name": "stdout",
     "output_type": "stream",
     "text": [
      "CPU times: user 23.8 ms, sys: 13.7 ms, total: 37.5 ms\n",
      "Wall time: 280 ms\n"
     ]
    }
   ],
   "source": [
    "%time data = load_binary_from_s3(image_id)"
   ]
  },
  {
   "cell_type": "code",
   "execution_count": 15,
   "id": "5f55df72",
   "metadata": {},
   "outputs": [
    {
     "data": {
      "application/vnd.jupyter.widget-view+json": {
       "model_id": "5adf97c2e82446c4853ba567b923996d",
       "version_major": 2,
       "version_minor": 0
      },
      "text/plain": [
       "interactive(children=(IntSlider(value=0, continuous_update=False, description='Select Z', max=256), Output()),…"
      ]
     },
     "metadata": {},
     "output_type": "display_data"
    },
    {
     "data": {
      "text/plain": [
       "<function __main__.update(z=0)>"
      ]
     },
     "execution_count": 15,
     "metadata": {},
     "output_type": "execute_result"
    }
   ],
   "source": [
    "import matplotlib.pyplot as plt\n",
    "%matplotlib inline\n",
    "from ipywidgets import *\n",
    "\n",
    "def update(z=0):\n",
    "    fig = plt.figure(figsize=(10, 10))\n",
    "    plt.subplot(121)\n",
    "    c = 1\n",
    "    t = 0\n",
    "    plt.imshow(data[t, c, z, :, :])\n",
    "    fig.canvas.flush_events()\n",
    "\n",
    "\n",
    "interact(update, z= widgets.IntSlider(value=0, min=0, max=data.shape[2]-1, step=1, description=\"Select Z\", continuous_update=False))"
   ]
  },
  {
   "cell_type": "markdown",
   "id": "e2f81a8e",
   "metadata": {},
   "source": [
    "### License (BSD 2-Clause)\n",
    "Copyright (C) 2023 University of Dundee. All Rights Reserved.\n",
    "\n",
    "Redistribution and use in source and binary forms, with or without modification, are permitted provided that the following conditions are met:\n",
    "\n",
    "Redistributions of source code must retain the above copyright notice, this list of conditions and the following disclaimer.\n",
    "Redistributions in binary form must reproduce the above copyright notice, this list of conditions and the following disclaimer in the documentation and/or other materials provided with the distribution.\n",
    "THIS SOFTWARE IS PROVIDED BY THE COPYRIGHT HOLDERS AND CONTRIBUTORS \"AS IS\" AND ANY EXPRESS OR IMPLIED WARRANTIES, INCLUDING, BUT NOT LIMITED TO, THE IMPLIED WARRANTIES OF MERCHANTABILITY AND FITNESS FOR A PARTICULAR PURPOSE ARE DISCLAIMED. IN NO EVENT SHALL THE COPYRIGHT OWNER OR CONTRIBUTORS BE LIABLE FOR ANY DIRECT, INDIRECT, INCIDENTAL, SPECIAL, EXEMPLARY, OR CONSEQUENTIAL DAMAGES (INCLUDING, BUT NOT LIMITED TO, PROCUREMENT OF SUBSTITUTE GOODS OR SERVICES; LOSS OF USE, DATA, OR PROFITS; OR BUSINESS INTERRUPTION) HOWEVER CAUSED AND ON ANY THEORY OF LIABILITY, WHETHER IN CONTRACT, STRICT LIABILITY, OR TORT (INCLUDING NEGLIGENCE OR OTHERWISE) ARISING IN ANY WAY OUT OF THE USE OF THIS SOFTWARE, EVEN IF ADVISED OF THE POSSIBILITY OF SUCH DAMAGE."
   ]
  }
 ],
 "metadata": {
  "kernelspec": {
   "display_name": "imaging_course_day_5_2023",
   "language": "python",
   "name": "imaging_course_day_5_2023"
  },
  "language_info": {
   "codemirror_mode": {
    "name": "ipython",
    "version": 3
   },
   "file_extension": ".py",
   "mimetype": "text/x-python",
   "name": "python",
   "nbconvert_exporter": "python",
   "pygments_lexer": "ipython3",
   "version": "3.9.16"
  }
 },
 "nbformat": 4,
 "nbformat_minor": 5
}
