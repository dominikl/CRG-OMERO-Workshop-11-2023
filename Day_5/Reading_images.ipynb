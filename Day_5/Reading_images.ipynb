{
 "cells": [
  {
   "cell_type": "markdown",
   "id": "50a93161",
   "metadata": {},
   "source": [
    "# Reading OME-NGFF\n",
    "\n",
    "[![Open in Colab](https://colab.research.google.com/assets/colab-badge.svg)](https://colab.research.google.com/github/ome/EMBL-EBI-imaging-course-05-2023/blob/main/Day_5/Reading_images.ipynb)\n"
   ]
  },
  {
   "cell_type": "markdown",
   "id": "68d06480",
   "metadata": {},
   "source": [
    "## Learning Objectives\n",
    "\n",
    "* Access OME-Zarr files over https\n",
    "* Browse OME-Zarr file\n",
    "* Learn how to access local OME-Zarr file in Python\n",
    "* Learn how to access remote OME-Zarr file in Python"
   ]
  },
  {
   "cell_type": "markdown",
   "id": "f3643975",
   "metadata": {},
   "source": [
    "There are several ways to access data. For the purpose of the topics covered in this workshop, we will access files over ``https`` and use [dask](https://dask.org/)\n",
    "\n",
    "Some sofware packages required to have all the 2D planes in memory in order to work other can work on planar data. We will now show two mechanisms to access the data depending on the needs using ``dask.array.from_zarr``.\n",
    "\n",
    "\n",
    "## Launch\n",
    "\n",
    "This notebook uses the ``environment.yml`` file.\n",
    "\n",
    "See [Setup](./workshop.ipynb)."
   ]
  },
  {
   "cell_type": "markdown",
   "id": "46a1dfb6",
   "metadata": {},
   "source": [
    "### Install dependencies if required\n",
    "\n",
    "The cell below will install dependencies if you choose to run the notebook in [Google Colab](https://colab.research.google.com/notebooks/intro.ipynb#recent=true). **Do not run the cell if you are not running the notebook on Google Colab**.\n",
    "\n",
    "\n",
    "If using Google Colab, **do not** use the ``Runtime>Run all`` entry."
   ]
  },
  {
   "cell_type": "code",
   "execution_count": null,
   "id": "85e215b3",
   "metadata": {},
   "outputs": [],
   "source": [
    "%pip install aiohttp==3.8.4 zarr==2.14.2"
   ]
  },
  {
   "cell_type": "markdown",
   "id": "61cfa1fc",
   "metadata": {},
   "source": [
    "## How to access local OME-Zarr file using Python\n",
    "\n",
    "In the [Conversion](./Conversion.ipynb), we view the ome-zarr file generated locally using napari.\n",
    "Now we will open the file using Python. This is useful when analysing the data.\n",
    "\n",
    "We first look at an existing ``ome.zarr`` file i.e. ``mri.ome.zarr``"
   ]
  },
  {
   "cell_type": "code",
   "execution_count": 1,
   "id": "4264bc5f",
   "metadata": {},
   "outputs": [],
   "source": [
    "import dask\n",
    "import dask.array as da\n",
    "from dask.diagnostics import ProgressBar\n",
    "import numpy\n",
    "def load_binary_from_local_with_data(path):\n",
    "    with ProgressBar():\n",
    "        return numpy.asarray(da.from_zarr(path))"
   ]
  },
  {
   "cell_type": "code",
   "execution_count": 2,
   "id": "2824529d",
   "metadata": {},
   "outputs": [
    {
     "name": "stdout",
     "output_type": "stream",
     "text": [
      "[########################################] | 100% Completed | 107.45 ms\n",
      "(27, 226, 186)\n",
      "CPU times: user 147 ms, sys: 56.6 ms, total: 203 ms\n",
      "Wall time: 334 ms\n"
     ]
    }
   ],
   "source": [
    "%%time\n",
    "image_location = 'images/mri.ome.zarr/s0'\n",
    "data = load_binary_from_local_with_data(image_location)\n",
    "print(data.shape)"
   ]
  },
  {
   "cell_type": "markdown",
   "id": "643d5003",
   "metadata": {},
   "source": [
    "**Exercise**: if you have generated a file locally as part of the [conversion workflow](Conversion.ipynb), set the ``image_location`` parameter to, for example, ``/tmp/conversion_out/B4_C3.zarr/0/0``."
   ]
  },
  {
   "cell_type": "code",
   "execution_count": 3,
   "id": "b1532c14",
   "metadata": {},
   "outputs": [
    {
     "data": {
      "application/vnd.jupyter.widget-view+json": {
       "model_id": "09b313670f6a469796daaca49fdcda3c",
       "version_major": 2,
       "version_minor": 0
      },
      "text/plain": [
       "interactive(children=(IntSlider(value=0, continuous_update=False, description='Select slice', max=26), Output(…"
      ]
     },
     "metadata": {},
     "output_type": "display_data"
    },
    {
     "data": {
      "text/plain": [
       "<function __main__.update(z=0)>"
      ]
     },
     "execution_count": 3,
     "metadata": {},
     "output_type": "execute_result"
    }
   ],
   "source": [
    "import matplotlib.pyplot as plt\n",
    "%matplotlib inline\n",
    "from ipywidgets import *\n",
    "\n",
    "n = 2\n",
    "if len(data.shape) == 3:\n",
    "    n = 0\n",
    "    \n",
    "def update(z=0):\n",
    "    fig = plt.figure(figsize=(10, 10))\n",
    "    plt.subplot(121)\n",
    "    c = 1\n",
    "    t = 0\n",
    "    if len(data.shape) == 3: \n",
    "        plt.imshow(data[z, :, :])\n",
    "    else:\n",
    "        plt.imshow(data[t, c, z, :, :])\n",
    "    fig.canvas.flush_events()\n",
    "\n",
    "\n",
    "interact(update, z= widgets.IntSlider(value=0, min=0, max=data.shape[n]-1, step=1, description=\"Select slice\", continuous_update=False))"
   ]
  },
  {
   "cell_type": "markdown",
   "id": "2c1aec38",
   "metadata": {},
   "source": [
    "## How to access OME-Zarr file on S3\n",
    "\n",
    "To view the data in S3, several options are possible. \n",
    "For the purpose of this workshop, we will view the data over https.\n"
   ]
  },
  {
   "cell_type": "markdown",
   "id": "90ee1bb0",
   "metadata": {},
   "source": [
    "## View OME-Zarr file on S3 in the web\n",
    "\n",
    "- We first look at the [B1_C1.tif](https://idr.openmicroscopy.org/webclient/?show=image-6001240) available in IDR and converted in OME-Zarr.\n",
    "  <a href=\"https://ome.github.io/ome-ngff-validator/?source=https://uk1s3.embassy.ebi.ac.uk/idr/zarr/v0.4/idr0062A/6001240.zarr\" target=\"_blank\">View OME-Zarr from IDR</a><br/>\n",
    "\n",
    "- View a tif image associated to [BIA accession S-BIAD338](https://www.ebi.ac.uk/biostudies/BioImages/studies/S-BIAD338) converted in OME-Zarr\n",
    " <a href=\"https://uk1s3.embassy.ebi.ac.uk/bia-integrator-data/pages/S-BIAD338/804b2976-1111-4099-8bfc-21d1d1d2163c.html\" target=\"_blank\">View OME-Zarr from BIA</a><br/>"
   ]
  },
  {
   "cell_type": "markdown",
   "id": "3161658b",
   "metadata": {},
   "source": [
    "## Read the data using Python\n",
    "We use the same image as in Day 4. The Tiff image has been converted into OME-Zarr and is available on S3."
   ]
  },
  {
   "cell_type": "code",
   "execution_count": 4,
   "id": "06bb400c",
   "metadata": {},
   "outputs": [],
   "source": [
    "image_id = 6001247"
   ]
  },
  {
   "cell_type": "markdown",
   "id": "ea970296",
   "metadata": {},
   "source": [
    "### Option 1\n",
    "\n",
    "The method below will return a dask array **without** any binary data i.e. **lazy loading**. The dimension order of the array returned is ``(TCZYX)``. \n",
    "\n",
    "Main point to keep in mind is that binary data are not loaded until it is used, i.e. it is **lazily loaded**."
   ]
  },
  {
   "cell_type": "code",
   "execution_count": 7,
   "id": "a1041a66",
   "metadata": {},
   "outputs": [],
   "source": [
    "def load_binary_from_s3(name, resolution='0'):\n",
    "    endpoint_url = 'https://uk1s3.embassy.ebi.ac.uk/'\n",
    "    root = '%s/%s/' % (name, resolution)\n",
    "    return da.from_zarr(endpoint_url + root)"
   ]
  },
  {
   "cell_type": "code",
   "execution_count": 15,
   "id": "c33361ef",
   "metadata": {},
   "outputs": [
    {
     "name": "stdout",
     "output_type": "stream",
     "text": [
      "(1, 2, 257, 210, 253)\n",
      "CPU times: user 21 ms, sys: 4.88 ms, total: 25.8 ms\n",
      "Wall time: 347 ms\n"
     ]
    }
   ],
   "source": [
    "%%time \n",
    "name = 'idr/zarr/v0.1/%s.zarr' % image_id\n",
    "data = load_binary_from_s3(name)\n",
    "print(data.shape)"
   ]
  },
  {
   "cell_type": "markdown",
   "id": "fad9a07e",
   "metadata": {},
   "source": [
    "**Exercise:** Adjust the name parameter to view the ome-zarr file from BIA"
   ]
  },
  {
   "cell_type": "code",
   "execution_count": 14,
   "id": "8fab6d0d",
   "metadata": {},
   "outputs": [
    {
     "data": {
      "application/vnd.jupyter.widget-view+json": {
       "model_id": "e215a2e465534c9da683132046133d87",
       "version_major": 2,
       "version_minor": 0
      },
      "text/plain": [
       "interactive(children=(IntSlider(value=0, continuous_update=False, description='Select Z', max=256), Output()),…"
      ]
     },
     "metadata": {},
     "output_type": "display_data"
    },
    {
     "data": {
      "text/plain": [
       "<function __main__.update(z=0)>"
      ]
     },
     "execution_count": 14,
     "metadata": {},
     "output_type": "execute_result"
    }
   ],
   "source": [
    "import matplotlib.pyplot as plt\n",
    "%matplotlib inline\n",
    "from ipywidgets import *\n",
    "\n",
    "def update(z=0):\n",
    "    fig = plt.figure(figsize=(10, 10))\n",
    "    plt.subplot(121)\n",
    "    c = 1\n",
    "    t = 0\n",
    "    plt.imshow(data[t, c, z, :, :])\n",
    "    fig.canvas.flush_events()\n",
    "\n",
    "\n",
    "interact(update, z= widgets.IntSlider(value=0, min=0, max=data.shape[2]-1, step=1, description=\"Select Z\", continuous_update=False))"
   ]
  },
  {
   "cell_type": "markdown",
   "id": "09ef18e3",
   "metadata": {},
   "source": [
    "### Option 2\n",
    "Load the binary. In that case, we load the 5D-image. This might be required when using a software needing to access the 5D-image to analyse the data. This approach should only be used if the 5D-image is required."
   ]
  },
  {
   "cell_type": "code",
   "execution_count": 16,
   "id": "57de8fed",
   "metadata": {},
   "outputs": [],
   "source": [
    "import dask\n",
    "import dask.array as da\n",
    "from dask.diagnostics import ProgressBar\n",
    "import numpy\n",
    "\n",
    "def load_binary_from_s3_with_data(name, resolution='0'):\n",
    "    endpoint_url = 'https://uk1s3.embassy.ebi.ac.uk/'\n",
    "    root = '%s/%s/' % (name, resolution)\n",
    "    with ProgressBar():\n",
    "        return numpy.asarray(da.from_zarr(endpoint_url + root))"
   ]
  },
  {
   "cell_type": "code",
   "execution_count": 17,
   "id": "e00995d3",
   "metadata": {},
   "outputs": [
    {
     "name": "stdout",
     "output_type": "stream",
     "text": [
      "[########################################] | 100% Completed | 18.00 s\n",
      "(1, 2, 257, 210, 253)\n",
      "CPU times: user 3.82 s, sys: 748 ms, total: 4.57 s\n",
      "Wall time: 18.4 s\n"
     ]
    }
   ],
   "source": [
    "%%time \n",
    "name = 'idr/zarr/v0.1/%s.zarr' % image_id\n",
    "data = load_binary_from_s3_with_data(name)\n",
    "print(data.shape)"
   ]
  },
  {
   "cell_type": "code",
   "execution_count": 18,
   "id": "40842789",
   "metadata": {
    "scrolled": false
   },
   "outputs": [
    {
     "data": {
      "application/vnd.jupyter.widget-view+json": {
       "model_id": "cd47c4a7ce5c40c59ebd5299325e58d1",
       "version_major": 2,
       "version_minor": 0
      },
      "text/plain": [
       "interactive(children=(IntSlider(value=0, continuous_update=False, description='Select Z', max=256), Output()),…"
      ]
     },
     "metadata": {},
     "output_type": "display_data"
    },
    {
     "data": {
      "text/plain": [
       "<function __main__.update(z=0)>"
      ]
     },
     "execution_count": 18,
     "metadata": {},
     "output_type": "execute_result"
    }
   ],
   "source": [
    "import matplotlib.pyplot as plt\n",
    "%matplotlib inline\n",
    "from ipywidgets import *\n",
    "\n",
    "def update(z=0):\n",
    "    fig = plt.figure(figsize=(10, 10))\n",
    "    plt.subplot(121)\n",
    "    c = 1\n",
    "    t = 0\n",
    "    plt.imshow(data[t, c, z, :, :])\n",
    "    fig.canvas.flush_events()\n",
    "\n",
    "\n",
    "interact(update, z= widgets.IntSlider(value=0, min=0, max=data.shape[2]-1, step=1, description=\"Select Z\", continuous_update=False))"
   ]
  },
  {
   "cell_type": "markdown",
   "id": "e2f81a8e",
   "metadata": {},
   "source": [
    "### License (BSD 2-Clause)\n",
    "Copyright (C) 2023 University of Dundee. All Rights Reserved.\n",
    "\n",
    "Redistribution and use in source and binary forms, with or without modification, are permitted provided that the following conditions are met:\n",
    "\n",
    "Redistributions of source code must retain the above copyright notice, this list of conditions and the following disclaimer.\n",
    "Redistributions in binary form must reproduce the above copyright notice, this list of conditions and the following disclaimer in the documentation and/or other materials provided with the distribution.\n",
    "THIS SOFTWARE IS PROVIDED BY THE COPYRIGHT HOLDERS AND CONTRIBUTORS \"AS IS\" AND ANY EXPRESS OR IMPLIED WARRANTIES, INCLUDING, BUT NOT LIMITED TO, THE IMPLIED WARRANTIES OF MERCHANTABILITY AND FITNESS FOR A PARTICULAR PURPOSE ARE DISCLAIMED. IN NO EVENT SHALL THE COPYRIGHT OWNER OR CONTRIBUTORS BE LIABLE FOR ANY DIRECT, INDIRECT, INCIDENTAL, SPECIAL, EXEMPLARY, OR CONSEQUENTIAL DAMAGES (INCLUDING, BUT NOT LIMITED TO, PROCUREMENT OF SUBSTITUTE GOODS OR SERVICES; LOSS OF USE, DATA, OR PROFITS; OR BUSINESS INTERRUPTION) HOWEVER CAUSED AND ON ANY THEORY OF LIABILITY, WHETHER IN CONTRACT, STRICT LIABILITY, OR TORT (INCLUDING NEGLIGENCE OR OTHERWISE) ARISING IN ANY WAY OUT OF THE USE OF THIS SOFTWARE, EVEN IF ADVISED OF THE POSSIBILITY OF SUCH DAMAGE."
   ]
  }
 ],
 "metadata": {
  "kernelspec": {
   "display_name": "imaging_course_day_5_2023",
   "language": "python",
   "name": "imaging_course_day_5_2023"
  },
  "language_info": {
   "codemirror_mode": {
    "name": "ipython",
    "version": 3
   },
   "file_extension": ".py",
   "mimetype": "text/x-python",
   "name": "python",
   "nbconvert_exporter": "python",
   "pygments_lexer": "ipython3",
   "version": "3.9.16"
  }
 },
 "nbformat": 4,
 "nbformat_minor": 5
}
