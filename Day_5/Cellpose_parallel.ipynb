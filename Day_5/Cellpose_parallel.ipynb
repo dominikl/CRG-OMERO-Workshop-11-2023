{
 "cells": [
  {
   "cell_type": "markdown",
   "id": "27ff8099",
   "metadata": {},
   "source": [
    "# Cellpose\n",
    "\n",
    "[![Open in Colab](https://colab.research.google.com/assets/colab-badge.svg)](https://colab.research.google.com/github/ome/EMBL-EBI-imaging-course-05-2023/blob/main/Day_5/Cellpose_parallel.ipynb)\n"
   ]
  },
  {
   "cell_type": "markdown",
   "id": "e3a1fc28",
   "metadata": {},
   "source": [
    "## Learning objectives\n",
    "\n",
    "* Read data to analyse from an object store.\n",
    "* Analyse data in parallel using Dask.\n",
    "* How to use public resources to train neural network.\n",
    "* Compare results with ground truth."
   ]
  },
  {
   "cell_type": "markdown",
   "id": "3fb703cf",
   "metadata": {},
   "source": [
    "The authors of the PLOS Biology paper, \"Nessys: A new set of tools for the automated detection of nuclei within intact tissues and dense 3D cultures\" published in August 2019: https://doi.org/10.1371/journal.pbio.3000388, considered several image segmenation packages, but they did not use the approach described in this notebook.\n",
    "\n",
    "We will analyse the data using [Cellpose](https://github.com/stardist/stardist) software package and compare the output with the original segmentation produced by the authors. StarDist was not considered by the authors. Our workflow shows how public repository can be accessed and data inside it used to validate software tools or new algorithms.\n",
    "\n",
    "We will use a predefined model from [Cellpose](https://www.cellpose.org/) as a starting point.\n",
    "\n",
    "The objectives of this notebook:\n",
    "\n",
    "* How to access data stored in object store.\n",
    "* How to load Regions of Interest (ROIs) associated to an image, ROIs are also stored in object store alongside the binary\n",
    "* Compare ROIs submitted by the authors and the ones generated using CellPose to validate the model used.\n",
    "\n",
    "See also\n",
    "## Launch\n",
    "\n",
    "This notebook uses the ``environment.yml`` file.\n",
    "\n",
    "See [Setup](./workshop.ipynb).\n",
    "\n"
   ]
  },
  {
   "cell_type": "markdown",
   "id": "0e06b625",
   "metadata": {},
   "source": [
    "### Install dependencies if required\n",
    "\n",
    "The cell below will install dependencies if you choose to run the notebook in [Google Colab](https://colab.research.google.com/notebooks/intro.ipynb#recent=true). **Do not run the cell if you are not running the notebook on Google Colab**.\n",
    "\n",
    "If using Google Colab, **do not** use the ``Runtime>Run all`` entry."
   ]
  },
  {
   "cell_type": "code",
   "execution_count": null,
   "id": "0b393c08",
   "metadata": {},
   "outputs": [],
   "source": [
    "# Package to access data on S3\n",
    "%pip install aiohttp==3.8.4 zarr==2.14.2\n",
    "\n",
    "# Package required to interact with Cellpose\n",
    "%pip install cellpose==2.2.1"
   ]
  },
  {
   "cell_type": "code",
   "execution_count": 2,
   "id": "7b4d4614",
   "metadata": {},
   "outputs": [],
   "source": [
    "image_id = 6001247"
   ]
  },
  {
   "cell_type": "markdown",
   "id": "b0be9f61",
   "metadata": {},
   "source": [
    "The method below will return a dask array without any binary data. The dimension order of the array returned is (TCZYX). Data will be loaded when requested later."
   ]
  },
  {
   "cell_type": "code",
   "execution_count": 3,
   "id": "ab22f7ba",
   "metadata": {},
   "outputs": [],
   "source": [
    "import dask\n",
    "import dask.array as da\n",
    "def load_binary_from_s3(id, resolution='0'):\n",
    "    endpoint_url = 'https://uk1s3.embassy.ebi.ac.uk/'\n",
    "    root = 'idr/zarr/v0.1/%s.zarr/%s/' % (id, resolution)\n",
    "    return da.from_zarr(endpoint_url + root)"
   ]
  },
  {
   "cell_type": "code",
   "execution_count": 4,
   "id": "d0165b2f",
   "metadata": {},
   "outputs": [
    {
     "name": "stdout",
     "output_type": "stream",
     "text": [
      "CPU times: user 208 ms, sys: 90.6 ms, total: 299 ms\n",
      "Wall time: 2.45 s\n"
     ]
    }
   ],
   "source": [
    "%time data = load_binary_from_s3(image_id)"
   ]
  },
  {
   "cell_type": "markdown",
   "id": "4a6c28d6",
   "metadata": {},
   "source": [
    "## Load Cellpose trained model \n",
    "\n",
    "We use an existing trained model from Cellpose. The cytoplasm model in cellpose is trained on two-channel images, where the first channel is the channel to segment, and the second channel is an optional nuclear channel. \n",
    "Please check Cellpose documentation and examples to load your own model."
   ]
  },
  {
   "cell_type": "code",
   "execution_count": 31,
   "id": "28fb6081",
   "metadata": {},
   "outputs": [],
   "source": [
    "from cellpose import models, io\n",
    "model = models.Cellpose(gpu=False, model_type='cyto')"
   ]
  },
  {
   "cell_type": "code",
   "execution_count": 35,
   "id": "298903ce",
   "metadata": {},
   "outputs": [],
   "source": [
    "def analyze(z):\n",
    "    t = 0\n",
    "    channels = [[0,1]]\n",
    "    model = models.Cellpose(gpu=False, model_type='cyto')\n",
    "    cellpose_masks, flows, styles, diams = model.eval(data[t, :, z, :, :], diameter=None, channels=channels)\n",
    "    return cellpose_masks, z"
   ]
  },
  {
   "cell_type": "markdown",
   "id": "8ee7bc74",
   "metadata": {},
   "source": [
    "We use ``dask.delayed`` to analyse a few Z-sections around the middle z-section.\n",
    "This very quick since we build the graph and do not perform the analysis at this stage"
   ]
  },
  {
   "cell_type": "code",
   "execution_count": 36,
   "id": "134a0cdf",
   "metadata": {},
   "outputs": [
    {
     "name": "stdout",
     "output_type": "stream",
     "text": [
      "[Delayed('analyze-ec4286c7-9f75-4b6e-9c7e-0cc41640475e'), Delayed('analyze-172c5d1d-0259-4960-be48-7845d3e36d2f'), Delayed('analyze-b0cf7c89-a509-4737-b324-ae11f2dbfa9c'), Delayed('analyze-b63fc6e6-effb-48b9-8279-022fb4145581')]\n",
      "CPU times: user 1.7 ms, sys: 990 µs, total: 2.69 ms\n",
      "Wall time: 3.05 ms\n"
     ]
    }
   ],
   "source": [
    "%%time\n",
    "lazy_results = []\n",
    "middle_z = data.shape[2] // 2\n",
    "range_z = 2\n",
    "for z in range(middle_z - range_z, middle_z + range_z):\n",
    "    lazy_result = dask.delayed(analyze)(z)\n",
    "    lazy_results.append(lazy_result)\n",
    "print(lazy_results)"
   ]
  },
  {
   "cell_type": "markdown",
   "id": "ee02a8ac",
   "metadata": {},
   "source": [
    "Perform the analysis"
   ]
  },
  {
   "cell_type": "code",
   "execution_count": 37,
   "id": "5702e780",
   "metadata": {},
   "outputs": [
    {
     "name": "stdout",
     "output_type": "stream",
     "text": [
      "CPU times: user 45.5 s, sys: 11.6 s, total: 57.1 s\n",
      "Wall time: 8.81 s\n"
     ]
    }
   ],
   "source": [
    "%time results = dask.compute(*lazy_results)"
   ]
  },
  {
   "cell_type": "code",
   "execution_count": 38,
   "id": "ccdf516c",
   "metadata": {},
   "outputs": [
    {
     "data": {
      "application/vnd.jupyter.widget-view+json": {
       "model_id": "1a54fec2e489491d934abb8186ac2f34",
       "version_major": 2,
       "version_minor": 0
      },
      "text/plain": [
       "interactive(children=(IntSlider(value=0, continuous_update=False, description='Select Plane', max=3), Output()…"
      ]
     },
     "metadata": {},
     "output_type": "display_data"
    },
    {
     "data": {
      "text/plain": [
       "<function __main__.display(i=0)>"
      ]
     },
     "execution_count": 38,
     "metadata": {},
     "output_type": "execute_result"
    }
   ],
   "source": [
    "import matplotlib.pyplot as plt\n",
    "%matplotlib inline\n",
    "from ipywidgets import *\n",
    "\n",
    "def display(i=0):\n",
    "    r, z = results[i]\n",
    "    fig = plt.figure(figsize=(10, 10))\n",
    "    plt.subplot(121)\n",
    "    plt.imshow(r)\n",
    "    plt.title(\"z: %s\" % z)\n",
    "    fig.canvas.flush_events()\n",
    "\n",
    "interact(display, i= widgets.IntSlider(value=0, min=0, max=len(results)-1, step=1, description=\"Select Plane\", continuous_update=False))"
   ]
  },
  {
   "cell_type": "markdown",
   "id": "f3315ba2",
   "metadata": {},
   "source": [
    "## Compare the original analysis result with the Cellpose result\n",
    "On the right, the labels loaded from S3 representing the original analysis by the authors of the paper. On the left, the masks from Cellpose."
   ]
  },
  {
   "cell_type": "markdown",
   "id": "951c6bde",
   "metadata": {},
   "source": [
    "### Load the labels\n",
    "Load the labels from S3. Labels are stored alongside the bi"
   ]
  },
  {
   "cell_type": "code",
   "execution_count": 40,
   "id": "02f6edbe",
   "metadata": {},
   "outputs": [],
   "source": [
    "def load_labels_from_s3(id, resolution='0'):\n",
    "    endpoint_url = 'https://uk1s3.embassy.ebi.ac.uk/'\n",
    "    root = 'idr/zarr/v0.1/%s.zarr/labels/%s/' % (id, resolution)\n",
    "    return da.from_zarr(endpoint_url + root)"
   ]
  },
  {
   "cell_type": "code",
   "execution_count": 41,
   "id": "25962f5a",
   "metadata": {},
   "outputs": [],
   "source": [
    "labels = load_labels_from_s3(image_id)"
   ]
  },
  {
   "cell_type": "code",
   "execution_count": 42,
   "id": "30a6562b",
   "metadata": {},
   "outputs": [
    {
     "name": "stdout",
     "output_type": "stream",
     "text": [
      "(1, 1, 257, 210, 253)\n"
     ]
    }
   ],
   "source": [
    "print(labels.shape)"
   ]
  },
  {
   "cell_type": "code",
   "execution_count": 44,
   "id": "b38d97f4",
   "metadata": {},
   "outputs": [
    {
     "data": {
      "application/vnd.jupyter.widget-view+json": {
       "model_id": "85990a0c019d4260b3d54080aec75aad",
       "version_major": 2,
       "version_minor": 0
      },
      "text/plain": [
       "interactive(children=(IntSlider(value=0, continuous_update=False, description='Select Plane', max=3), Output()…"
      ]
     },
     "metadata": {},
     "output_type": "display_data"
    },
    {
     "data": {
      "text/plain": [
       "<function __main__.display(i=0)>"
      ]
     },
     "execution_count": 44,
     "metadata": {},
     "output_type": "execute_result"
    }
   ],
   "source": [
    "import matplotlib.pyplot as plt\n",
    "%matplotlib inline\n",
    "from ipywidgets import *\n",
    "\n",
    "def display(i=0):\n",
    "    r, z = results[i]\n",
    "    fig = plt.figure(figsize=(10, 10))\n",
    "    plt.subplot(121)\n",
    "    plt.imshow(r)\n",
    "    plt.title(\"Cellpose z: %s\" % z)\n",
    "    plt.subplot(122)\n",
    "    plt.imshow(labels[0, 0, z, :, :])\n",
    "    plt.title(\"Original z: %s\" % z)\n",
    "    fig.canvas.flush_events()\n",
    "\n",
    "interact(display, i= widgets.IntSlider(value=0, min=0, max=len(results)-1, step=1, description=\"Select Plane\", continuous_update=False))"
   ]
  },
  {
   "cell_type": "markdown",
   "id": "3133061a",
   "metadata": {},
   "source": [
    "### License (BSD 2-Clause)\n",
    "Copyright (C) 2023 University of Dundee. All Rights Reserved.\n",
    "\n",
    "Redistribution and use in source and binary forms, with or without modification, are permitted provided that the following conditions are met:\n",
    "\n",
    "Redistributions of source code must retain the above copyright notice, this list of conditions and the following disclaimer.\n",
    "Redistributions in binary form must reproduce the above copyright notice, this list of conditions and the following disclaimer in the documentation and/or other materials provided with the distribution.\n",
    "THIS SOFTWARE IS PROVIDED BY THE COPYRIGHT HOLDERS AND CONTRIBUTORS \"AS IS\" AND ANY EXPRESS OR IMPLIED WARRANTIES, INCLUDING, BUT NOT LIMITED TO, THE IMPLIED WARRANTIES OF MERCHANTABILITY AND FITNESS FOR A PARTICULAR PURPOSE ARE DISCLAIMED. IN NO EVENT SHALL THE COPYRIGHT OWNER OR CONTRIBUTORS BE LIABLE FOR ANY DIRECT, INDIRECT, INCIDENTAL, SPECIAL, EXEMPLARY, OR CONSEQUENTIAL DAMAGES (INCLUDING, BUT NOT LIMITED TO, PROCUREMENT OF SUBSTITUTE GOODS OR SERVICES; LOSS OF USE, DATA, OR PROFITS; OR BUSINESS INTERRUPTION) HOWEVER CAUSED AND ON ANY THEORY OF LIABILITY, WHETHER IN CONTRACT, STRICT LIABILITY, OR TORT (INCLUDING NEGLIGENCE OR OTHERWISE) ARISING IN ANY WAY OUT OF THE USE OF THIS SOFTWARE, EVEN IF ADVISED OF THE POSSIBILITY OF SUCH DAMAGE."
   ]
  }
 ],
 "metadata": {
  "kernelspec": {
   "display_name": "imaging_course_day_5_2023",
   "language": "python",
   "name": "imaging_course_day_5_2023"
  },
  "language_info": {
   "codemirror_mode": {
    "name": "ipython",
    "version": 3
   },
   "file_extension": ".py",
   "mimetype": "text/x-python",
   "name": "python",
   "nbconvert_exporter": "python",
   "pygments_lexer": "ipython3",
   "version": "3.9.16"
  }
 },
 "nbformat": 4,
 "nbformat_minor": 5
}
