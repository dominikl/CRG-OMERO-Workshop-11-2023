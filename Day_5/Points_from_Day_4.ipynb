{
 "cells": [
  {
   "cell_type": "markdown",
   "id": "5c873f0c",
   "metadata": {},
   "source": [
    "## Data can be re-used\n",
    "\n",
    "* Data can be re-used by other for, for example, training, AI etc.\n",
    "* When choosing a place where to deposit your data, consider DOI for data e.g. IDR, Zenodo"
   ]
  },
  {
   "cell_type": "markdown",
   "id": "f7f53a38",
   "metadata": {},
   "source": [
    "## Data access\n",
    "* Most resources will offer the ability to download the data in its original format.\n",
    "* Need a specific reader depending on the format.\n",
    "* IDR/OMERO: access to any file via API\n",
    "\n",
    "### Binary access\n",
    "\n",
    "```\n",
    "from omero.gateway import BlitzGateway\n",
    "HOST = 'ws://idr.openmicroscopy.org/omero-ws'\n",
    "conn = BlitzGateway('public', 'public',\n",
    "                    host=HOST, secure=True)\n",
    "print(conn.connect())\n",
    "conn.c.enableKeepAlive(60)\n",
    "\n",
    "```\n",
    "\n",
    "To get a single plane\n",
    "```\n",
    "plane = pixels.getPlane(z, c, t)\n",
    "```\n",
    "Useful for [Cellprofiler.ipynb](./Day_4/Cellprofiler.ipynb)\n",
    "\n",
    "\n",
    "To get a 5D-image\n",
    "```\n",
    "import numpy\n",
    "\n",
    "def load_numpy_array(image):\n",
    "    pixels = image.getPrimaryPixels()\n",
    "    size_z = image.getSizeZ()\n",
    "    size_c = image.getSizeC()\n",
    "    size_t = image.getSizeT()\n",
    "    size_x = image.getSizeX()\n",
    "    size_y = image.getSizeY()\n",
    "    z, t, c = 0, 0, 0  # first plane of the image\n",
    "\n",
    "    zct_list = []\n",
    "    for t in range(size_t):\n",
    "        for c in range(size_c):  # all channels\n",
    "            for z in range(size_z):  # get the Z-stack\n",
    "                zct_list.append((z, c, t))\n",
    "\n",
    "    values = []\n",
    "    # Load all the planes as YX numpy array\n",
    "    planes = pixels.getPlanes(zct_list)\n",
    "    s = \"t:%s c:%s z:%s\" % (size_t, size_c, size_z)\n",
    "    print(\"Downloading image %s\" % image.getName())\n",
    "    all_planes = numpy.stack(list(planes))\n",
    "    shape = (size_t, size_c, size_z, size_y, size_x)\n",
    "    return numpy.reshape(all_planes, newshape=shape)\n",
    "```\n",
    "\n",
    "### Access over http\n",
    "\n",
    "```\n",
    "# URLs to retrieve the thumbnails and link to the images in IDR\n",
    "BASE_URL = \"https://idr.openmicroscopy.org/webclient\"\n",
    "IMAGE_DATA_URL = BASE_URL + \"/render_thumbnail/{id}\"\n",
    "LINK_URL = BASE_URL + \"/?show=image-{id}\"\n",
    "```\n",
    "\n",
    "```\n",
    "INDEX_PAGE = \"https://idr.openmicroscopy.org/webclient/?experimenter=-1\"\n",
    "\n",
    "# create http session\n",
    "with requests.Session() as session:\n",
    "    request = requests.Request('GET', INDEX_PAGE)\n",
    "    prepped = session.prepare_request(request)\n",
    "    response = session.send(prepped)\n",
    "    if response.status_code != 200:\n",
    "        response.raise_for_status()\n",
    "```\n",
    "\n"
   ]
  },
  {
   "cell_type": "markdown",
   "id": "a5e308b5",
   "metadata": {},
   "source": [
    "## Questions\n",
    "\n",
    "* **Could I make my data easily accessible to others over http(s)?**\n",
    "* **Could I access the binary over http(s)?**\n",
    "* **Could I run my analysis in parallel?**"
   ]
  }
 ],
 "metadata": {
  "kernelspec": {
   "display_name": "Python 3 (ipykernel)",
   "language": "python",
   "name": "python3"
  },
  "language_info": {
   "codemirror_mode": {
    "name": "ipython",
    "version": 3
   },
   "file_extension": ".py",
   "mimetype": "text/x-python",
   "name": "python",
   "nbconvert_exporter": "python",
   "pygments_lexer": "ipython3",
   "version": "3.9.12"
  }
 },
 "nbformat": 4,
 "nbformat_minor": 5
}
